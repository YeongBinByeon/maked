{
 "cells": [
  {
   "cell_type": "code",
   "execution_count": 1,
   "metadata": {},
   "outputs": [],
   "source": [
    "# github - https://github.com/kairess/auto_sword/blob/master/simplest.py\n"
   ]
  },
  {
   "cell_type": "code",
   "execution_count": 4,
   "metadata": {},
   "outputs": [],
   "source": [
    "import cv2, time, sys, random, mss\n",
    "import numpy as np\n",
    "import pyautogui as pag\n",
    "from colorama import init, Fore, Back, Style\n",
    "init(autoreset=True)\n",
    "#from helpers import *"
   ]
  },
  {
   "cell_type": "code",
   "execution_count": 7,
   "metadata": {},
   "outputs": [
    {
     "name": "stdout",
     "output_type": "stream",
     "text": [
      "failed 10 times, terminate!\n"
     ]
    }
   ],
   "source": [
    "pag.PAUSE = 0.01\n",
    "\n",
    "fail_limit = 10\n",
    "initial_dalay = 0.08\n",
    "\n",
    "# bluestacks\n",
    "left_icon_pos = {'left': 100, 'top': 540, 'width': 70, 'height': 70}\n",
    "right_icon_pos = {'left': 250, 'top': 540, 'width': 70, 'height': 70}\n",
    "left_button = [70, 680]\n",
    "right_button = [355, 680]\n",
    "\n",
    "# nox\n",
    "# left_icon_pos = {'left': 170, 'top': 580, 'width': 80, 'height': 80}\n",
    "# right_icon_pos = {'left': 355, 'top': 580, 'width': 80, 'height': 80}\n",
    "# left_button = [133, 736]\n",
    "# right_button = [476, 737]\n",
    "\n",
    "def get_colors(img):\n",
    "  mean = np.mean(img, axis=(0, 1))\n",
    "\n",
    "  result = False\n",
    "\n",
    "  if mean[0] > 50 and mean[0] < 55 and mean[1] > 50 and mean[1] < 55 and mean[2] > 50 and mean[2] < 55:\n",
    "    result = 'BOMB'\n",
    "  elif mean[0] > 250 and mean[1] > 85 and mean[1] < 110 and mean[2] > 250:\n",
    "    result = 'SWORD'\n",
    "  elif mean[0] > 100 and mean[0] < 130 and mean[1] > 150 and mean[1] < 200 and mean[2] > 90 and mean[2] < 110:\n",
    "    result = 'POISON'\n",
    "  elif mean[0] > 210 and mean[0] < 230 and mean[1] > 200 and mean[1] < 225 and mean[2] > 120 and mean[2] < 135:\n",
    "    result = 'JEWEL'\n",
    "\n",
    "  return (result, mean)\n",
    "\n",
    "####################################\n",
    "####################################\n",
    "####################################\n",
    "if __name__ == \"__main__\":\n",
    "  #countdown(3)\n",
    "  n_fails = 0\n",
    "  n_frames = 0\n",
    "  fever = False\n",
    "  last_fever = time.time()\n",
    "  last_icons = []\n",
    "\n",
    "  while True:\n",
    "    n_frames += 1\n",
    "\n",
    "    if fever and time.time() - last_fever > 10:\n",
    "      print('############### FEVER ################')\n",
    "      click(x=left_button[0], y=left_button[1])\n",
    "\n",
    "      if time.time() - fever > 5:\n",
    "        fever = False\n",
    "        last_fever = time.time()\n",
    "      else:\n",
    "        continue\n",
    "\n",
    "    with mss.mss() as sct:\n",
    "      left_img = np.array(sct.grab(left_icon_pos))[:,:,:3]\n",
    "      right_img = np.array(sct.grab(right_icon_pos))[:,:,:3]\n",
    "      # cv2.imshow('OpenCV/Numpy normal', np.concatenate((left_img, right_img), axis=1))\n",
    "      # cv2.waitKey(1)\n",
    "      # continue\n",
    "      # cv2.imwrite('img/%s.jpg' % (str(n_frames)), np.concatenate((left_img, right_img), axis=1))\n",
    "\n",
    "    # print(n_frames)\n",
    "    left = get_colors(left_img)\n",
    "    right = get_colors(right_img)\n",
    "    left_icon = left[0]\n",
    "    right_icon = right[0]\n",
    "\n",
    "    if left_icon == 'SWORD' and (right_icon == 'BOMB' or right_icon == 'POISON'):\n",
    "    # if left_icon == 'SWORD':\n",
    "      print('TAP LEFT!')\n",
    "      click(x=left_button[0], y=left_button[1])\n",
    "      n_fails = 0\n",
    "    elif right_icon == 'SWORD' and (left_icon == 'BOMB' or left_icon == 'POISON'):\n",
    "      print('TAP RIGHT!')\n",
    "      click(x=right_button[0], y=right_button[1])\n",
    "      n_fails = 0\n",
    "    elif left_icon == 'JEWEL' and right_icon == 'JEWEL':\n",
    "      click(x=left_button[0], y=left_button[1])\n",
    "      n_fails = 0\n",
    "      fever = time.time()\n",
    "      cv2.imwrite('img/fever_%s.jpg' % (str(n_frames)), np.concatenate((left_img, right_img), axis=1))\n",
    "    else:\n",
    "      # print('i dont know')\n",
    "      n_fails += 1\n",
    "      if n_fails > fail_limit:\n",
    "        print('failed %s times, terminate!' % (fail_limit))\n",
    "        break\n",
    "\n",
    "    # get_mouse_position()\n",
    "    # print('========================')\n",
    "    time.sleep(initial_dalay)"
   ]
  }
 ],
 "metadata": {
  "kernelspec": {
   "display_name": "Python 3",
   "language": "python",
   "name": "python3"
  },
  "language_info": {
   "codemirror_mode": {
    "name": "ipython",
    "version": 3
   },
   "file_extension": ".py",
   "mimetype": "text/x-python",
   "name": "python",
   "nbconvert_exporter": "python",
   "pygments_lexer": "ipython3",
   "version": "3.7.4"
  }
 },
 "nbformat": 4,
 "nbformat_minor": 2
}
