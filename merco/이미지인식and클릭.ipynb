{
 "cells": [
  {
   "cell_type": "code",
   "execution_count": 1,
   "metadata": {},
   "outputs": [],
   "source": [
    "import pyautogui as pag\n",
    "import mss, cv2\n",
    "import numpy as np\n",
    "import time"
   ]
  },
  {
   "cell_type": "code",
   "execution_count": null,
   "metadata": {},
   "outputs": [],
   "source": [
    "while True:\n",
    "    x, y, = pag.position()\n",
    "    position_str = 'X: ' + str(x) + ' Y: ' + str(y)\n",
    "    print(position_str, end='\\r')"
   ]
  },
  {
   "cell_type": "code",
   "execution_count": 7,
   "metadata": {
    "scrolled": true
   },
   "outputs": [
    {
     "ename": "KeyboardInterrupt",
     "evalue": "",
     "output_type": "error",
     "traceback": [
      "\u001b[1;31m---------------------------------------------------------------------------\u001b[0m",
      "\u001b[1;31mKeyboardInterrupt\u001b[0m                         Traceback (most recent call last)",
      "\u001b[1;32m<ipython-input-7-76dc7d832d6b>\u001b[0m in \u001b[0;36m<module>\u001b[1;34m\u001b[0m\n\u001b[0;32m     19\u001b[0m \u001b[1;32mwhile\u001b[0m \u001b[1;32mTrue\u001b[0m\u001b[1;33m:\u001b[0m\u001b[1;33m\u001b[0m\u001b[1;33m\u001b[0m\u001b[0m\n\u001b[0;32m     20\u001b[0m     \u001b[1;32mwith\u001b[0m \u001b[0mmss\u001b[0m\u001b[1;33m.\u001b[0m\u001b[0mmss\u001b[0m\u001b[1;33m(\u001b[0m\u001b[1;33m)\u001b[0m \u001b[1;32mas\u001b[0m \u001b[0msct\u001b[0m\u001b[1;33m:\u001b[0m\u001b[1;33m\u001b[0m\u001b[1;33m\u001b[0m\u001b[0m\n\u001b[1;32m---> 21\u001b[1;33m         \u001b[0mtime\u001b[0m\u001b[1;33m.\u001b[0m\u001b[0msleep\u001b[0m\u001b[1;33m(\u001b[0m\u001b[1;36m2\u001b[0m\u001b[1;33m)\u001b[0m\u001b[1;33m\u001b[0m\u001b[1;33m\u001b[0m\u001b[0m\n\u001b[0m\u001b[0;32m     22\u001b[0m         \u001b[0mfirst_img\u001b[0m \u001b[1;33m=\u001b[0m \u001b[0mnp\u001b[0m\u001b[1;33m.\u001b[0m\u001b[0marray\u001b[0m\u001b[1;33m(\u001b[0m\u001b[0msct\u001b[0m\u001b[1;33m.\u001b[0m\u001b[0mgrab\u001b[0m\u001b[1;33m(\u001b[0m\u001b[0mfirst_icon_pos\u001b[0m\u001b[1;33m)\u001b[0m\u001b[1;33m)\u001b[0m\u001b[1;33m[\u001b[0m\u001b[1;33m:\u001b[0m\u001b[1;33m,\u001b[0m\u001b[1;33m:\u001b[0m\u001b[1;33m,\u001b[0m\u001b[1;33m:\u001b[0m\u001b[1;36m3\u001b[0m\u001b[1;33m]\u001b[0m\u001b[1;33m\u001b[0m\u001b[1;33m\u001b[0m\u001b[0m\n\u001b[0;32m     23\u001b[0m         \u001b[0msecond_img\u001b[0m \u001b[1;33m=\u001b[0m \u001b[0mnp\u001b[0m\u001b[1;33m.\u001b[0m\u001b[0marray\u001b[0m\u001b[1;33m(\u001b[0m\u001b[0msct\u001b[0m\u001b[1;33m.\u001b[0m\u001b[0mgrab\u001b[0m\u001b[1;33m(\u001b[0m\u001b[0msecond_icon_pos\u001b[0m\u001b[1;33m)\u001b[0m\u001b[1;33m)\u001b[0m\u001b[1;33m[\u001b[0m\u001b[1;33m:\u001b[0m\u001b[1;33m,\u001b[0m\u001b[1;33m:\u001b[0m\u001b[1;33m,\u001b[0m\u001b[1;33m:\u001b[0m\u001b[1;36m3\u001b[0m\u001b[1;33m]\u001b[0m\u001b[1;33m\u001b[0m\u001b[1;33m\u001b[0m\u001b[0m\n",
      "\u001b[1;31mKeyboardInterrupt\u001b[0m: "
     ]
    }
   ],
   "source": [
    "#클릭후 대기시간\n",
    "pag.PAUSE = 0.3\n",
    "\n",
    "\n",
    "first_icon_pos = {'left':1902, 'top':903, 'width':140, 'height':56}\n",
    "second_icon_pos = {'left':1804, 'top':652, 'width':140, 'height':130}\n",
    "third_icon_pos = {'left':415, 'top':839, 'width':460, 'height':120}\n",
    "\n",
    "\n",
    "first_button=[2000,930]\n",
    "second_button=[1900, 720]\n",
    "third_button=[600, 880]\n",
    "\n",
    "first_token = 1\n",
    "second_token = 0\n",
    "third_token = 0\n",
    "\n",
    "\n",
    "while True:\n",
    "    with mss.mss() as sct:\n",
    "        time.sleep(2)\n",
    "        first_img = np.array(sct.grab(first_icon_pos))[:,:,:3]\n",
    "        second_img = np.array(sct.grab(second_icon_pos))[:,:,:3]\n",
    "        third_img = np.array(sct.grab(third_icon_pos))[:,:,:3]\n",
    "        \n",
    "\n",
    "#         #윈도우에 이미지 띄우기\n",
    "#         cv2.imshow('left_img', left_img)\n",
    "#         cv2.imshow('right_img', right_img)\n",
    "#         #띄우고 대기하기\n",
    "#         cv2.waitKey(0)\n",
    "        #cv2.imshow('second_img', second_img)\n",
    "        mean0 = np.mean(first_img, axis=(0,1))\n",
    "        mean1 = np.mean(second_img, axis=(0,1))\n",
    "        #print(\"second : \" + mean1)\n",
    "        mean2 = np.mean(third_img, axis=(0,1))\n",
    "        #print( mean0)\n",
    "        #print( mean1)\n",
    "        #print( mean2)\n",
    "        \n",
    "        #cv2.imshow('third_img', third_img)\n",
    "        #cv2.waitKey(0)\n",
    "        \n",
    "        firstIcon = compute_icon_type_(first_img)\n",
    "        secondIcon = compute_icon_type_(second_img)\n",
    "        thirdIcon = compute_icon_type_(third_img)\n",
    "        #print (\"first icon : \" + firstIcon )\n",
    "        #print (\"second Icon \" + secondIcon)\n",
    "        #print (\"third Icon \" + thirdIcon)\n",
    "        \n",
    "        if firstIcon == \"FIRST\":\n",
    "            #print(\"FIRST\")\n",
    "            click(first_button)\n",
    "            click(first_button)\n",
    "            first_token = 0\n",
    "            second_token = 1\n",
    "        elif secondIcon == \"SECOND\":\n",
    "            #print(\"SECOND\")\n",
    "            click(second_button)\n",
    "            click(second_button)\n",
    "            second_token = 0\n",
    "            third_token = 1\n",
    "        elif thirdIcon == \"THIRD\":\n",
    "            #print(\"THIRD\")\n",
    "            click(third_button)\n",
    "            click(third_button)\n",
    "            third_token = 0\n",
    "            first_token = 1\n",
    "        else:\n",
    "            time.sleep(10)\n",
    "            #print(\"other\")\n",
    "            click(first_button)\n",
    "            click(first_button)\n",
    "        \n",
    "        \n",
    "        #print(left_icon)\n",
    "        #print(right_icon)"
   ]
  },
  {
   "cell_type": "code",
   "execution_count": 2,
   "metadata": {},
   "outputs": [],
   "source": [
    "\n",
    "def compute_icon_type_(img):\n",
    "    mean = np.mean(img, axis=(0,1))\n",
    "    result = 'gjgi'\n",
    "    \n",
    "    if mean[0] > 180 and mean[0] < 190 and mean[1] > 130 and mean[1] < 140 and mean[2] > 30 and mean[2] < 45:\n",
    "        result = 'FIRST'\n",
    "    elif mean[0] > 90 and mean[0] < 100 and mean[1] > 110 and mean[1] < 120 and mean[2] > 160 and mean[2] < 170:\n",
    "        result = 'SECOND'\n",
    "    elif mean[0] > 90 and mean[0] < 110 and mean[1] > 90 and mean[1] < 110 and mean[2] > 90 and mean[2] < 110:\n",
    "        result = 'THIRD'\n",
    "    elif mean[0] > 210 and mean[0] < 230 and mean[1] > 200 and mean[1] < 225 and mean[2] > 120 and mean[2] < 135:\n",
    "        result = 'JEWEL'\n",
    "    return result\n",
    "\n",
    "def click(coords):\n",
    "    pag.moveTo(x=coords[0], y=coords[1], duration=0.0)\n",
    "    pag.mouseDown()\n",
    "    pag.mouseUp()\n",
    "    "
   ]
  },
  {
   "cell_type": "code",
   "execution_count": null,
   "metadata": {},
   "outputs": [],
   "source": []
  }
 ],
 "metadata": {
  "kernelspec": {
   "display_name": "Python 3",
   "language": "python",
   "name": "python3"
  },
  "language_info": {
   "codemirror_mode": {
    "name": "ipython",
    "version": 3
   },
   "file_extension": ".py",
   "mimetype": "text/x-python",
   "name": "python",
   "nbconvert_exporter": "python",
   "pygments_lexer": "ipython3",
   "version": "3.7.4"
  }
 },
 "nbformat": 4,
 "nbformat_minor": 2
}
